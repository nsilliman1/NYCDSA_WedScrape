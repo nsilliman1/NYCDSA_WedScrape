{
 "cells": [
  {
   "cell_type": "code",
   "execution_count": 1,
   "metadata": {},
   "outputs": [],
   "source": [
    "import pandas as pd\n",
    "import numpy as np\n",
    "import nltk\n",
    "from nltk.corpus import stopwords\n",
    "from nltk.tokenize import word_tokenize \n",
    "from nltk.stem import WordNetLemmatizer\n",
    "from nltk.probability import FreqDist\n",
    "from textblob import TextBlob\n",
    "import string\n",
    "import re"
   ]
  },
  {
   "cell_type": "code",
   "execution_count": 2,
   "metadata": {},
   "outputs": [],
   "source": [
    "data = pd.read_csv('alteryx_community.csv')"
   ]
  },
  {
   "cell_type": "code",
   "execution_count": 3,
   "metadata": {},
   "outputs": [
    {
     "name": "stdout",
     "output_type": "stream",
     "text": [
      "<class 'pandas.core.frame.DataFrame'>\n",
      "RangeIndex: 83439 entries, 0 to 83438\n",
      "Data columns (total 5 columns):\n",
      " #   Column        Non-Null Count  Dtype         \n",
      "---  ------        --------------  -----         \n",
      " 0   post_author   83134 non-null  object        \n",
      " 1   post_message  83439 non-null  object        \n",
      " 2   post_time     83439 non-null  datetime64[ns]\n",
      " 3   reply_author  83436 non-null  object        \n",
      " 4   reply_time    61434 non-null  datetime64[ns]\n",
      "dtypes: datetime64[ns](2), object(3)\n",
      "memory usage: 3.2+ MB\n"
     ]
    }
   ],
   "source": [
    "data.loc[data.reply_time=='No replies','reply_time'] = np.NAN\n",
    "data['reply_time'] = pd.to_datetime(data['reply_time'])\n",
    "data['post_time'] = pd.to_datetime(data['post_time'])\n",
    "data.info()"
   ]
  },
  {
   "cell_type": "code",
   "execution_count": 4,
   "metadata": {},
   "outputs": [],
   "source": [
    "data.to_csv('../Shiny/clean_data.csv', index = False)"
   ]
  },
  {
   "cell_type": "code",
   "execution_count": 5,
   "metadata": {},
   "outputs": [],
   "source": [
    "#all the string to lower cases\n",
    "data['post_message1'] = data['post_message'].str.lower()\n",
    "# \\S+ means anything that is not an empty space\n",
    "data['post_message1'] = data['post_message1'].apply(lambda x: re.sub('http\\S*', '', x))\n",
    "# \\s+ means all empty space (\\n, \\r, \\t)\n",
    "data['post_message1'] = data['post_message1'].apply(lambda x: re.sub('\\s+', ' ', x))\n",
    "data['post_message1'] = data['post_message1'].apply(lambda x: re.sub('[^\\w\\s]', '', x))"
   ]
  },
  {
   "cell_type": "code",
   "execution_count": 6,
   "metadata": {
    "scrolled": true
   },
   "outputs": [
    {
     "data": {
      "text/html": [
       "<div>\n",
       "<style scoped>\n",
       "    .dataframe tbody tr th:only-of-type {\n",
       "        vertical-align: middle;\n",
       "    }\n",
       "\n",
       "    .dataframe tbody tr th {\n",
       "        vertical-align: top;\n",
       "    }\n",
       "\n",
       "    .dataframe thead th {\n",
       "        text-align: right;\n",
       "    }\n",
       "</style>\n",
       "<table border=\"1\" class=\"dataframe\">\n",
       "  <thead>\n",
       "    <tr style=\"text-align: right;\">\n",
       "      <th></th>\n",
       "      <th>post_author</th>\n",
       "      <th>post_message</th>\n",
       "      <th>post_time</th>\n",
       "      <th>reply_author</th>\n",
       "      <th>reply_time</th>\n",
       "      <th>post_message1</th>\n",
       "    </tr>\n",
       "  </thead>\n",
       "  <tbody>\n",
       "    <tr>\n",
       "      <th>61914</th>\n",
       "      <td>asmagar</td>\n",
       "      <td>Re: Tool Mastery | Python</td>\n",
       "      <td>2019-05-22</td>\n",
       "      <td>SydneyF</td>\n",
       "      <td>2019-05-22</td>\n",
       "      <td>re tool mastery  python</td>\n",
       "    </tr>\n",
       "    <tr>\n",
       "      <th>12260</th>\n",
       "      <td>AlexStewart628</td>\n",
       "      <td>Moving rows into column for multiple files</td>\n",
       "      <td>2018-01-30</td>\n",
       "      <td>No replies</td>\n",
       "      <td>NaT</td>\n",
       "      <td>moving rows into column for multiple files</td>\n",
       "    </tr>\n",
       "    <tr>\n",
       "      <th>43881</th>\n",
       "      <td>jagjit_singh</td>\n",
       "      <td>YTD Calculations</td>\n",
       "      <td>2015-10-28</td>\n",
       "      <td>joe_strellis</td>\n",
       "      <td>2015-10-29</td>\n",
       "      <td>ytd calculations</td>\n",
       "    </tr>\n",
       "    <tr>\n",
       "      <th>17648</th>\n",
       "      <td>justinpopat</td>\n",
       "      <td>Replace if New Rows in Oracle</td>\n",
       "      <td>2018-07-24</td>\n",
       "      <td>justinpopat</td>\n",
       "      <td>2018-07-25</td>\n",
       "      <td>replace if new rows in oracle</td>\n",
       "    </tr>\n",
       "    <tr>\n",
       "      <th>78062</th>\n",
       "      <td>AdamSpencer</td>\n",
       "      <td>Education Use Case?</td>\n",
       "      <td>2021-04-28</td>\n",
       "      <td>AdamSpencer</td>\n",
       "      <td>2021-04-28</td>\n",
       "      <td>education use case</td>\n",
       "    </tr>\n",
       "    <tr>\n",
       "      <th>53518</th>\n",
       "      <td>_arun_gurubaram</td>\n",
       "      <td>Downloading data with spatial object from SDE ...</td>\n",
       "      <td>2012-07-24</td>\n",
       "      <td>zendonadi</td>\n",
       "      <td>2018-09-25</td>\n",
       "      <td>downloading data with spatial object from sde ...</td>\n",
       "    </tr>\n",
       "    <tr>\n",
       "      <th>68300</th>\n",
       "      <td>PaulFields2</td>\n",
       "      <td>Need to create an empty table in oracle</td>\n",
       "      <td>2020-12-22</td>\n",
       "      <td>PaulFields2</td>\n",
       "      <td>2020-12-23</td>\n",
       "      <td>need to create an empty table in oracle</td>\n",
       "    </tr>\n",
       "    <tr>\n",
       "      <th>77850</th>\n",
       "      <td>ISUGraber</td>\n",
       "      <td>Convert Text to 24 Hour Time</td>\n",
       "      <td>2021-05-01</td>\n",
       "      <td>No replies</td>\n",
       "      <td>NaT</td>\n",
       "      <td>convert text to 24 hour time</td>\n",
       "    </tr>\n",
       "    <tr>\n",
       "      <th>3162</th>\n",
       "      <td>bsharbo</td>\n",
       "      <td>Pass Paramater through Chained Applications</td>\n",
       "      <td>2016-06-01</td>\n",
       "      <td>No replies</td>\n",
       "      <td>NaT</td>\n",
       "      <td>pass paramater through chained applications</td>\n",
       "    </tr>\n",
       "    <tr>\n",
       "      <th>14805</th>\n",
       "      <td>rhyatt</td>\n",
       "      <td>Order number field within a group</td>\n",
       "      <td>2017-06-19</td>\n",
       "      <td>No replies</td>\n",
       "      <td>NaT</td>\n",
       "      <td>order number field within a group</td>\n",
       "    </tr>\n",
       "  </tbody>\n",
       "</table>\n",
       "</div>"
      ],
      "text/plain": [
       "           post_author                                       post_message  \\\n",
       "61914          asmagar                          Re: Tool Mastery | Python   \n",
       "12260   AlexStewart628         Moving rows into column for multiple files   \n",
       "43881     jagjit_singh                                   YTD Calculations   \n",
       "17648      justinpopat                      Replace if New Rows in Oracle   \n",
       "78062      AdamSpencer                                Education Use Case?   \n",
       "53518  _arun_gurubaram  Downloading data with spatial object from SDE ...   \n",
       "68300      PaulFields2            Need to create an empty table in oracle   \n",
       "77850        ISUGraber                       Convert Text to 24 Hour Time   \n",
       "3162           bsharbo        Pass Paramater through Chained Applications   \n",
       "14805           rhyatt                  Order number field within a group   \n",
       "\n",
       "       post_time  reply_author reply_time  \\\n",
       "61914 2019-05-22       SydneyF 2019-05-22   \n",
       "12260 2018-01-30    No replies        NaT   \n",
       "43881 2015-10-28  joe_strellis 2015-10-29   \n",
       "17648 2018-07-24   justinpopat 2018-07-25   \n",
       "78062 2021-04-28   AdamSpencer 2021-04-28   \n",
       "53518 2012-07-24     zendonadi 2018-09-25   \n",
       "68300 2020-12-22   PaulFields2 2020-12-23   \n",
       "77850 2021-05-01    No replies        NaT   \n",
       "3162  2016-06-01    No replies        NaT   \n",
       "14805 2017-06-19    No replies        NaT   \n",
       "\n",
       "                                           post_message1  \n",
       "61914                            re tool mastery  python  \n",
       "12260         moving rows into column for multiple files  \n",
       "43881                                   ytd calculations  \n",
       "17648                      replace if new rows in oracle  \n",
       "78062                                 education use case  \n",
       "53518  downloading data with spatial object from sde ...  \n",
       "68300            need to create an empty table in oracle  \n",
       "77850                       convert text to 24 hour time  \n",
       "3162         pass paramater through chained applications  \n",
       "14805                  order number field within a group  "
      ]
     },
     "execution_count": 6,
     "metadata": {},
     "output_type": "execute_result"
    }
   ],
   "source": [
    "data.sample(10)"
   ]
  },
  {
   "cell_type": "code",
   "execution_count": 7,
   "metadata": {},
   "outputs": [],
   "source": [
    "best_rev_corpus = ' '.join(data['post_message1'])"
   ]
  },
  {
   "cell_type": "code",
   "execution_count": 8,
   "metadata": {},
   "outputs": [],
   "source": [
    "lemmatizer= WordNetLemmatizer()"
   ]
  },
  {
   "cell_type": "code",
   "execution_count": 9,
   "metadata": {},
   "outputs": [],
   "source": [
    "stop = stopwords.words('english') + list(string.punctuation)\n",
    "data['post_message1'] = data['post_message1'].apply(lambda text: \" \".join(word for word in text.split() if word not in stop))"
   ]
  },
  {
   "cell_type": "code",
   "execution_count": 10,
   "metadata": {
    "scrolled": true
   },
   "outputs": [
    {
     "data": {
      "text/plain": [
       "[('data', 10662),\n",
       " ('tool', 10374),\n",
       " ('file', 9991),\n",
       " ('alteryx', 7942),\n",
       " ('column', 7033),\n",
       " ('error', 6645),\n",
       " ('excel', 6020),\n",
       " ('input', 5805),\n",
       " ('output', 5780),\n",
       " ('multiple', 5386),\n",
       " ('row', 4626),\n",
       " ('date', 4323),\n",
       " ('field', 4248),\n",
       " ('value', 4066),\n",
       " ('using', 4036),\n",
       " ('workflow', 3918),\n",
       " ('macro', 3602),\n",
       " ('table', 3324),\n",
       " ('formula', 3086),\n",
       " ('dynamic', 2592),\n",
       " ('help', 2451),\n",
       " ('name', 2302),\n",
       " ('based', 2295),\n",
       " ('one', 2173),\n",
       " ('sheet', 2134),\n",
       " ('number', 2081),\n",
       " ('string', 2046),\n",
       " ('text', 2039),\n",
       " ('sql', 1893),\n",
       " ('different', 1890),\n",
       " ('filter', 1791),\n",
       " ('record', 1780),\n",
       " ('issue', 1754),\n",
       " ('run', 1547),\n",
       " ('server', 1504),\n",
       " ('time', 1503),\n",
       " ('format', 1492),\n",
       " ('join', 1476),\n",
       " ('tab', 1466),\n",
       " ('new', 1457),\n",
       " ('list', 1367),\n",
       " ('app', 1359),\n",
       " ('create', 1330),\n",
       " ('email', 1324),\n",
       " ('specific', 1314),\n",
       " ('two', 1266),\n",
       " ('download', 1213),\n",
       " ('connection', 1183),\n",
       " ('regex', 1129),\n",
       " ('designer', 1127)]"
      ]
     },
     "execution_count": 10,
     "metadata": {},
     "output_type": "execute_result"
    }
   ],
   "source": [
    "best_rev_tokens = [lemmatizer.lemmatize(tokens) for tokens in word_tokenize(best_rev_corpus) if tokens not in stop]\n",
    "\n",
    "fdist = FreqDist(best_rev_tokens)\n",
    "fdist.most_common(50)"
   ]
  },
  {
   "cell_type": "code",
   "execution_count": null,
   "metadata": {},
   "outputs": [],
   "source": []
  }
 ],
 "metadata": {
  "kernelspec": {
   "display_name": "Python 3",
   "language": "python",
   "name": "python3"
  },
  "language_info": {
   "codemirror_mode": {
    "name": "ipython",
    "version": 3
   },
   "file_extension": ".py",
   "mimetype": "text/x-python",
   "name": "python",
   "nbconvert_exporter": "python",
   "pygments_lexer": "ipython3",
   "version": "3.8.5"
  }
 },
 "nbformat": 4,
 "nbformat_minor": 4
}
